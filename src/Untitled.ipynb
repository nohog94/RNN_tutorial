{
 "cells": [
  {
   "cell_type": "code",
   "execution_count": 649,
   "id": "aa05e6ad",
   "metadata": {},
   "outputs": [],
   "source": [
    "import torch\n",
    "from torch import nn\n",
    "from torch.nn import functional as F\n",
    "from matplotlib import pyplot as plt\n",
    "import math\n",
    "import random\n",
    "import sys\n",
    "from numpy import newaxis"
   ]
  },
  {
   "cell_type": "code",
   "execution_count": 650,
   "id": "f51af4a0",
   "metadata": {},
   "outputs": [],
   "source": [
    "class RNNModel(nn.Module):\n",
    "    def __init__(self, rnn_layer, num_inputs, **kwargs):\n",
    "        super(RNNModel, self).__init__(**kwargs)\n",
    "        self.rnn = rnn_layer\n",
    "        self.num_inputs = num_inputs\n",
    "        self.num_hiddens = self.rnn.hidden_size\n",
    "        self.num_directions = 1\n",
    "        self.linear = nn.Linear(self.num_hiddens, self.num_inputs)\n",
    "\n",
    "    def forward(self, inputs, state):\n",
    "        X = inputs \n",
    "        X = X.to(torch.float32)\n",
    "        Y, state = self.rnn(X, state)\n",
    "        output = self.linear(Y.reshape((-1, Y.shape[-1])))\n",
    "        return output, state\n",
    "\n",
    "    def begin_state(self, device, batch_size):\n",
    "        return (torch.zeros((self.num_directions * self.rnn.num_layers,\n",
    "                             batch_size, self.num_hiddens),\n",
    "                            device=device, requires_grad=True),\n",
    "                torch.zeros((self.num_directions * self.rnn.num_layers,\n",
    "                             batch_size, self.num_hiddens),\n",
    "                            device=device, requires_grad=True))"
   ]
  },
  {
   "cell_type": "code",
   "execution_count": 664,
   "id": "4b9bb4c3",
   "metadata": {},
   "outputs": [],
   "source": [
    "num_inputs = 1\n",
    "num_hiddens = 8\n",
    "lstm_layer = nn.LSTM(num_inputs, num_hiddens)"
   ]
  },
  {
   "cell_type": "code",
   "execution_count": 665,
   "id": "91502ef2",
   "metadata": {},
   "outputs": [],
   "source": [
    "model = RNNModel(lstm_layer, num_inputs)\n",
    "device = torch.device('cpu')\n",
    "model = model.to(device)"
   ]
  },
  {
   "cell_type": "code",
   "execution_count": 666,
   "id": "91d2d460",
   "metadata": {},
   "outputs": [],
   "source": [
    "loss = nn.MSELoss()\n",
    "num_epochs = 10000"
   ]
  },
  {
   "cell_type": "code",
   "execution_count": 667,
   "id": "31239c07",
   "metadata": {},
   "outputs": [],
   "source": [
    "lr = 5e-2\n",
    "updater = torch.optim.SGD(model.parameters(), lr)"
   ]
  },
  {
   "cell_type": "code",
   "execution_count": 668,
   "id": "9f97ca83",
   "metadata": {},
   "outputs": [],
   "source": [
    "X = []\n",
    "Y = []\n",
    "for i in range(100):\n",
    "    X.append(round(math.sin(0.1*i), 1))\n",
    "    Y.append(round(math.sin(0.1*(i+1)), 1))"
   ]
  },
  {
   "cell_type": "code",
   "execution_count": 656,
   "id": "3c166147",
   "metadata": {},
   "outputs": [],
   "source": [
    "def seq_data_iter_sequential():\n",
    "    for i in range(32):\n",
    "        offset1 = random.randint(0, 90)\n",
    "        X_input = torch.tensor([X[offset1:offset1+10]], requires_grad=True).T\n",
    "        Y_input = torch.tensor([Y[offset1:offset1+10]], requires_grad=True).T\n",
    "        X_input = X_input[:,:,newaxis]\n",
    "        Y_input = Y_input[:,:,newaxis]\n",
    "        yield X_input, Y_input\n",
    "\n",
    "class SeqDataLoader:\n",
    "    def __iter__(self):\n",
    "        return seq_data_iter_sequential()"
   ]
  },
  {
   "cell_type": "code",
   "execution_count": 669,
   "id": "ab22f513",
   "metadata": {},
   "outputs": [],
   "source": [
    "train_iter = SeqDataLoader()"
   ]
  },
  {
   "cell_type": "code",
   "execution_count": 658,
   "id": "9392e758",
   "metadata": {},
   "outputs": [],
   "source": [
    "num_directions = 1\n",
    "num_layers = 1\n",
    "num_hiddens = 8"
   ]
  },
  {
   "cell_type": "code",
   "execution_count": 670,
   "id": "776b3e16",
   "metadata": {},
   "outputs": [],
   "source": [
    "def train_epoch(net, train_iter, loss, updater, device):\n",
    "    state = None\n",
    "    for X_input, Y_input in train_iter:\n",
    "        if state is None:\n",
    "            state = net.begin_state(device=device, batch_size = 1)       \n",
    "        else:\n",
    "            for s in state:\n",
    "                s.detach_()   \n",
    "        y = Y_input.reshape(-1)\n",
    "        X_input, y = X_input.to(device), y.to(device)\n",
    "        y_hat, state = net(X_input, state)\n",
    "        l = loss(y_hat, y)\n",
    "        updater.zero_grad()\n",
    "        l.backward()\n",
    "        updater.step()        "
   ]
  },
  {
   "cell_type": "code",
   "execution_count": 671,
   "id": "b5cbfcf5",
   "metadata": {},
   "outputs": [],
   "source": [
    "def predict_one_input(prefix, num_preds, net, device):\n",
    "    state = net.begin_state(batch_size=1, device=device)    \n",
    "    outputs = [prefix[0]]\n",
    "    get_input = lambda: torch.reshape(torch.tensor([outputs[-1]], device=device),\n",
    "                                    (1, 1, 1))\n",
    "    for y in prefix[1:]:  \n",
    "        _, state = net(get_input(), state)\n",
    "        outputs.append(y)\n",
    "    for _ in range(num_preds):  \n",
    "        y, state = net(get_input(), state)        \n",
    "        outputs.append(round(y.item(),1))\n",
    "    return outputs"
   ]
  },
  {
   "cell_type": "code",
   "execution_count": 672,
   "id": "44c5ada9",
   "metadata": {},
   "outputs": [],
   "source": [
    "predict = lambda prefix: predict_one_input(prefix, 5, model, device)"
   ]
  },
  {
   "cell_type": "code",
   "execution_count": 673,
   "id": "052ff821",
   "metadata": {},
   "outputs": [],
   "source": [
    "predict_input = [0.1,0.0,-0.1,-0.2,-0.3]"
   ]
  },
  {
   "cell_type": "code",
   "execution_count": 675,
   "id": "fd264e04",
   "metadata": {},
   "outputs": [],
   "source": [
    "num_epochs = 5000"
   ]
  },
  {
   "cell_type": "code",
   "execution_count": 676,
   "id": "ec74bed5",
   "metadata": {},
   "outputs": [
    {
     "name": "stdout",
     "output_type": "stream",
     "text": [
      "[0.1, 0.0, -0.1, -0.2, -0.3, -0.4, -0.5, -0.5, -0.4, -0.2]\n",
      "[0.1, 0.0, -0.1, -0.2, -0.3, -0.4, -0.5, -0.5, -0.4, -0.3]\n",
      "[0.1, 0.0, -0.1, -0.2, -0.3, -0.5, -0.5, -0.5, -0.4, -0.3]\n",
      "[0.1, 0.0, -0.1, -0.2, -0.3, -0.4, -0.4, -0.3, -0.1, 0.2]\n",
      "[0.1, 0.0, -0.1, -0.2, -0.3, -0.4, -0.5, -0.5, -0.4, -0.3]\n",
      "[0.1, 0.0, -0.1, -0.2, -0.3, -0.5, -0.6, -0.6, -0.6, -0.6]\n",
      "[0.1, 0.0, -0.1, -0.2, -0.3, -0.4, -0.4, -0.4, -0.3, -0.2]\n",
      "[0.1, 0.0, -0.1, -0.2, -0.3, -0.4, -0.4, -0.4, -0.3, -0.2]\n",
      "[0.1, 0.0, -0.1, -0.2, -0.3, -0.5, -0.5, -0.5, -0.5, -0.5]\n",
      "[0.1, 0.0, -0.1, -0.2, -0.3, -0.4, -0.4, -0.4, -0.4, -0.4]\n",
      "[0.1, 0.0, -0.1, -0.2, -0.3, -0.4, -0.4, -0.4, -0.4, -0.4]\n",
      "[0.1, 0.0, -0.1, -0.2, -0.3, -0.4, -0.4, -0.4, -0.4, -0.4]\n",
      "[0.1, 0.0, -0.1, -0.2, -0.3, -0.5, -0.6, -0.6, -0.6, -0.5]\n",
      "[0.1, 0.0, -0.1, -0.2, -0.3, -0.4, -0.4, -0.4, -0.4, -0.4]\n",
      "[0.1, 0.0, -0.1, -0.2, -0.3, -0.4, -0.4, -0.4, -0.4, -0.4]\n",
      "[0.1, 0.0, -0.1, -0.2, -0.3, -0.4, -0.4, -0.4, -0.4, -0.4]\n",
      "[0.1, 0.0, -0.1, -0.2, -0.3, -0.4, -0.4, -0.4, -0.4, -0.4]\n",
      "[0.1, 0.0, -0.1, -0.2, -0.3, -0.4, -0.4, -0.3, -0.2, -0.1]\n",
      "[0.1, 0.0, -0.1, -0.2, -0.3, -0.4, -0.5, -0.5, -0.4, -0.2]\n",
      "[0.1, 0.0, -0.1, -0.2, -0.3, -0.4, -0.4, -0.4, -0.4, -0.4]\n",
      "[0.1, 0.0, -0.1, -0.2, -0.3, -0.5, -0.5, -0.5, -0.4, -0.3]\n",
      "[0.1, 0.0, -0.1, -0.2, -0.3, -0.4, -0.5, -0.5, -0.4, -0.3]\n",
      "[0.1, 0.0, -0.1, -0.2, -0.3, -0.5, -0.5, -0.4, -0.2, 0.0]\n",
      "[0.1, 0.0, -0.1, -0.2, -0.3, -0.5, -0.5, -0.5, -0.4, -0.3]\n",
      "[0.1, 0.0, -0.1, -0.2, -0.3, -0.5, -0.5, -0.5, -0.4, -0.3]\n",
      "[0.1, 0.0, -0.1, -0.2, -0.3, -0.5, -0.5, -0.5, -0.4, -0.3]\n",
      "[0.1, 0.0, -0.1, -0.2, -0.3, -0.5, -0.5, -0.4, -0.2, 0.1]\n",
      "[0.1, 0.0, -0.1, -0.2, -0.3, -0.4, -0.4, -0.4, -0.4, -0.4]\n",
      "[0.1, 0.0, -0.1, -0.2, -0.3, -0.4, -0.4, -0.4, -0.3, -0.2]\n",
      "[0.1, 0.0, -0.1, -0.2, -0.3, -0.4, -0.4, -0.4, -0.4, -0.4]\n",
      "[0.1, 0.0, -0.1, -0.2, -0.3, -0.4, -0.5, -0.5, -0.4, -0.3]\n",
      "[0.1, 0.0, -0.1, -0.2, -0.3, -0.5, -0.5, -0.4, -0.2, 0.0]\n",
      "[0.1, 0.0, -0.1, -0.2, -0.3, -0.5, -0.5, -0.4, -0.2, 0.1]\n",
      "[0.1, 0.0, -0.1, -0.2, -0.3, -0.4, -0.4, -0.4, -0.3, -0.2]\n",
      "[0.1, 0.0, -0.1, -0.2, -0.3, -0.4, -0.4, -0.4, -0.4, -0.4]\n",
      "[0.1, 0.0, -0.1, -0.2, -0.3, -0.5, -0.5, -0.5, -0.5, -0.5]\n",
      "[0.1, 0.0, -0.1, -0.2, -0.3, -0.5, -0.5, -0.5, -0.4, -0.3]\n",
      "[0.1, 0.0, -0.1, -0.2, -0.3, -0.5, -0.5, -0.4, -0.3, -0.2]\n",
      "[0.1, 0.0, -0.1, -0.2, -0.3, -0.5, -0.5, -0.4, -0.3, -0.2]\n",
      "[0.1, 0.0, -0.1, -0.2, -0.3, -0.5, -0.6, -0.5, -0.4, -0.3]\n",
      "[0.1, 0.0, -0.1, -0.2, -0.3, -0.5, -0.6, -0.6, -0.5, -0.3]\n",
      "[0.1, 0.0, -0.1, -0.2, -0.3, -0.5, -0.5, -0.5, -0.4, -0.3]\n",
      "[0.1, 0.0, -0.1, -0.2, -0.3, -0.4, -0.4, -0.4, -0.4, -0.4]\n",
      "[0.1, 0.0, -0.1, -0.2, -0.3, -0.6, -0.6, -0.5, -0.4, -0.3]\n",
      "[0.1, 0.0, -0.1, -0.2, -0.3, -0.5, -0.5, -0.5, -0.4, -0.2]\n",
      "[0.1, 0.0, -0.1, -0.2, -0.3, -0.5, -0.6, -0.5, -0.4, -0.3]\n",
      "[0.1, 0.0, -0.1, -0.2, -0.3, -0.4, -0.4, -0.4, -0.3, -0.2]\n",
      "[0.1, 0.0, -0.1, -0.2, -0.3, -0.5, -0.6, -0.5, -0.3, -0.0]\n",
      "[0.1, 0.0, -0.1, -0.2, -0.3, -0.5, -0.6, -0.5, -0.4, -0.3]\n",
      "[0.1, 0.0, -0.1, -0.2, -0.3, -0.5, -0.5, -0.5, -0.4, -0.3]\n"
     ]
    }
   ],
   "source": [
    "for epoch in range(num_epochs):\n",
    "    train_epoch(model, train_iter, loss, updater, device)\n",
    "    if (epoch + 1) % 100 == 0:\n",
    "        print(predict(predict_input))"
   ]
  },
  {
   "cell_type": "code",
   "execution_count": 678,
   "id": "8b6ea27b",
   "metadata": {},
   "outputs": [
    {
     "name": "stdout",
     "output_type": "stream",
     "text": [
      "[0.7, 0.8, 0.8, 0.9, 0.9, 0.9, 0.9, 0.9, 0.8, 0.8]\n"
     ]
    }
   ],
   "source": [
    "print(predict([0.1,0,-0.1.8,0.9,0.9]))"
   ]
  }
 ],
 "metadata": {
  "kernelspec": {
   "display_name": "RNN_tutorial",
   "language": "python",
   "name": "rnn_tutorial"
  },
  "language_info": {
   "codemirror_mode": {
    "name": "ipython",
    "version": 3
   },
   "file_extension": ".py",
   "mimetype": "text/x-python",
   "name": "python",
   "nbconvert_exporter": "python",
   "pygments_lexer": "ipython3",
   "version": "3.9.4"
  }
 },
 "nbformat": 4,
 "nbformat_minor": 5
}
